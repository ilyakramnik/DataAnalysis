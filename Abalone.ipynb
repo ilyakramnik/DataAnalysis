{
 "cells": [
  {
   "cell_type": "code",
   "execution_count": 1,
   "id": "3b701d25",
   "metadata": {},
   "outputs": [],
   "source": [
    "import numpy as np\n",
    "import pandas as pd\n",
    "import matplotlib.pyplot as plt\n",
    "import seaborn as sns"
   ]
  },
  {
   "cell_type": "code",
   "execution_count": 2,
   "id": "2c09ed4a",
   "metadata": {},
   "outputs": [],
   "source": [
    "df = pd.read_csv(\"abalone.csv\")"
   ]
  },
  {
   "cell_type": "code",
   "execution_count": 5,
   "id": "1d9f0008",
   "metadata": {},
   "outputs": [
    {
     "data": {
      "text/html": [
       "<div>\n",
       "<style scoped>\n",
       "    .dataframe tbody tr th:only-of-type {\n",
       "        vertical-align: middle;\n",
       "    }\n",
       "\n",
       "    .dataframe tbody tr th {\n",
       "        vertical-align: top;\n",
       "    }\n",
       "\n",
       "    .dataframe thead th {\n",
       "        text-align: right;\n",
       "    }\n",
       "</style>\n",
       "<table border=\"1\" class=\"dataframe\">\n",
       "  <thead>\n",
       "    <tr style=\"text-align: right;\">\n",
       "      <th></th>\n",
       "      <th>Sex</th>\n",
       "      <th>Length</th>\n",
       "      <th>Diameter</th>\n",
       "      <th>Height</th>\n",
       "      <th>Whole weight</th>\n",
       "      <th>Shucked weight</th>\n",
       "      <th>Viscera weight</th>\n",
       "      <th>Shell weight</th>\n",
       "      <th>Rings</th>\n",
       "    </tr>\n",
       "  </thead>\n",
       "  <tbody>\n",
       "    <tr>\n",
       "      <th>0</th>\n",
       "      <td>M</td>\n",
       "      <td>0.455</td>\n",
       "      <td>0.365</td>\n",
       "      <td>0.095</td>\n",
       "      <td>0.5140</td>\n",
       "      <td>0.2245</td>\n",
       "      <td>0.1010</td>\n",
       "      <td>0.150</td>\n",
       "      <td>15</td>\n",
       "    </tr>\n",
       "    <tr>\n",
       "      <th>1</th>\n",
       "      <td>M</td>\n",
       "      <td>0.350</td>\n",
       "      <td>0.265</td>\n",
       "      <td>0.090</td>\n",
       "      <td>0.2255</td>\n",
       "      <td>0.0995</td>\n",
       "      <td>0.0485</td>\n",
       "      <td>0.070</td>\n",
       "      <td>7</td>\n",
       "    </tr>\n",
       "    <tr>\n",
       "      <th>2</th>\n",
       "      <td>F</td>\n",
       "      <td>0.530</td>\n",
       "      <td>0.420</td>\n",
       "      <td>0.135</td>\n",
       "      <td>0.6770</td>\n",
       "      <td>0.2565</td>\n",
       "      <td>0.1415</td>\n",
       "      <td>0.210</td>\n",
       "      <td>9</td>\n",
       "    </tr>\n",
       "    <tr>\n",
       "      <th>3</th>\n",
       "      <td>M</td>\n",
       "      <td>0.440</td>\n",
       "      <td>0.365</td>\n",
       "      <td>0.125</td>\n",
       "      <td>NaN</td>\n",
       "      <td>0.2155</td>\n",
       "      <td>0.1140</td>\n",
       "      <td>0.155</td>\n",
       "      <td>10</td>\n",
       "    </tr>\n",
       "    <tr>\n",
       "      <th>4</th>\n",
       "      <td>I</td>\n",
       "      <td>0.330</td>\n",
       "      <td>0.255</td>\n",
       "      <td>0.080</td>\n",
       "      <td>0.2050</td>\n",
       "      <td>0.0895</td>\n",
       "      <td>0.0395</td>\n",
       "      <td>0.055</td>\n",
       "      <td>7</td>\n",
       "    </tr>\n",
       "  </tbody>\n",
       "</table>\n",
       "</div>"
      ],
      "text/plain": [
       "  Sex  Length  Diameter  Height  Whole weight  Shucked weight  Viscera weight  \\\n",
       "0   M   0.455     0.365   0.095        0.5140          0.2245          0.1010   \n",
       "1   M   0.350     0.265   0.090        0.2255          0.0995          0.0485   \n",
       "2   F   0.530     0.420   0.135        0.6770          0.2565          0.1415   \n",
       "3   M   0.440     0.365   0.125           NaN          0.2155          0.1140   \n",
       "4   I   0.330     0.255   0.080        0.2050          0.0895          0.0395   \n",
       "\n",
       "   Shell weight  Rings  \n",
       "0         0.150     15  \n",
       "1         0.070      7  \n",
       "2         0.210      9  \n",
       "3         0.155     10  \n",
       "4         0.055      7  "
      ]
     },
     "execution_count": 5,
     "metadata": {},
     "output_type": "execute_result"
    }
   ],
   "source": [
    "df.head(5)"
   ]
  },
  {
   "cell_type": "code",
   "execution_count": 7,
   "id": "e956af41",
   "metadata": {},
   "outputs": [
    {
     "data": {
      "text/plain": [
       "(4177, 9)"
      ]
     },
     "execution_count": 7,
     "metadata": {},
     "output_type": "execute_result"
    }
   ],
   "source": [
    "df.shape"
   ]
  },
  {
   "cell_type": "code",
   "execution_count": 9,
   "id": "d928779b",
   "metadata": {},
   "outputs": [
    {
     "name": "stdout",
     "output_type": "stream",
     "text": [
      "<class 'pandas.core.frame.DataFrame'>\n",
      "RangeIndex: 4177 entries, 0 to 4176\n",
      "Data columns (total 9 columns):\n",
      " #   Column          Non-Null Count  Dtype  \n",
      "---  ------          --------------  -----  \n",
      " 0   Sex             4177 non-null   object \n",
      " 1   Length          4177 non-null   float64\n",
      " 2   Diameter        4078 non-null   float64\n",
      " 3   Height          4177 non-null   float64\n",
      " 4   Whole weight    4078 non-null   float64\n",
      " 5   Shucked weight  4177 non-null   float64\n",
      " 6   Viscera weight  4177 non-null   float64\n",
      " 7   Shell weight    4127 non-null   float64\n",
      " 8   Rings           4177 non-null   int64  \n",
      "dtypes: float64(7), int64(1), object(1)\n",
      "memory usage: 293.8+ KB\n"
     ]
    }
   ],
   "source": [
    "df.info()"
   ]
  },
  {
   "cell_type": "code",
   "execution_count": 11,
   "id": "3ea4a119",
   "metadata": {},
   "outputs": [
    {
     "data": {
      "text/html": [
       "<div>\n",
       "<style scoped>\n",
       "    .dataframe tbody tr th:only-of-type {\n",
       "        vertical-align: middle;\n",
       "    }\n",
       "\n",
       "    .dataframe tbody tr th {\n",
       "        vertical-align: top;\n",
       "    }\n",
       "\n",
       "    .dataframe thead th {\n",
       "        text-align: right;\n",
       "    }\n",
       "</style>\n",
       "<table border=\"1\" class=\"dataframe\">\n",
       "  <thead>\n",
       "    <tr style=\"text-align: right;\">\n",
       "      <th></th>\n",
       "      <th>Length</th>\n",
       "      <th>Diameter</th>\n",
       "      <th>Height</th>\n",
       "      <th>Whole weight</th>\n",
       "      <th>Shucked weight</th>\n",
       "      <th>Viscera weight</th>\n",
       "      <th>Shell weight</th>\n",
       "      <th>Rings</th>\n",
       "    </tr>\n",
       "  </thead>\n",
       "  <tbody>\n",
       "    <tr>\n",
       "      <th>count</th>\n",
       "      <td>4177.000000</td>\n",
       "      <td>4078.000000</td>\n",
       "      <td>4177.000000</td>\n",
       "      <td>4078.000000</td>\n",
       "      <td>4177.000000</td>\n",
       "      <td>4177.000000</td>\n",
       "      <td>4127.000000</td>\n",
       "      <td>4177.000000</td>\n",
       "    </tr>\n",
       "    <tr>\n",
       "      <th>mean</th>\n",
       "      <td>0.523992</td>\n",
       "      <td>0.407840</td>\n",
       "      <td>0.139516</td>\n",
       "      <td>0.827306</td>\n",
       "      <td>0.359367</td>\n",
       "      <td>0.180594</td>\n",
       "      <td>0.239072</td>\n",
       "      <td>9.933684</td>\n",
       "    </tr>\n",
       "    <tr>\n",
       "      <th>std</th>\n",
       "      <td>0.120093</td>\n",
       "      <td>0.099286</td>\n",
       "      <td>0.041827</td>\n",
       "      <td>0.490348</td>\n",
       "      <td>0.221963</td>\n",
       "      <td>0.109614</td>\n",
       "      <td>0.138942</td>\n",
       "      <td>3.224169</td>\n",
       "    </tr>\n",
       "    <tr>\n",
       "      <th>min</th>\n",
       "      <td>0.075000</td>\n",
       "      <td>0.055000</td>\n",
       "      <td>0.000000</td>\n",
       "      <td>0.002000</td>\n",
       "      <td>0.001000</td>\n",
       "      <td>0.000500</td>\n",
       "      <td>0.001500</td>\n",
       "      <td>1.000000</td>\n",
       "    </tr>\n",
       "    <tr>\n",
       "      <th>25%</th>\n",
       "      <td>0.450000</td>\n",
       "      <td>0.350000</td>\n",
       "      <td>0.115000</td>\n",
       "      <td>0.440500</td>\n",
       "      <td>0.186000</td>\n",
       "      <td>0.093500</td>\n",
       "      <td>0.130000</td>\n",
       "      <td>8.000000</td>\n",
       "    </tr>\n",
       "    <tr>\n",
       "      <th>50%</th>\n",
       "      <td>0.545000</td>\n",
       "      <td>0.425000</td>\n",
       "      <td>0.140000</td>\n",
       "      <td>0.798500</td>\n",
       "      <td>0.336000</td>\n",
       "      <td>0.171000</td>\n",
       "      <td>0.235000</td>\n",
       "      <td>9.000000</td>\n",
       "    </tr>\n",
       "    <tr>\n",
       "      <th>75%</th>\n",
       "      <td>0.615000</td>\n",
       "      <td>0.480000</td>\n",
       "      <td>0.165000</td>\n",
       "      <td>1.150875</td>\n",
       "      <td>0.502000</td>\n",
       "      <td>0.253000</td>\n",
       "      <td>0.328250</td>\n",
       "      <td>11.000000</td>\n",
       "    </tr>\n",
       "    <tr>\n",
       "      <th>max</th>\n",
       "      <td>0.815000</td>\n",
       "      <td>0.650000</td>\n",
       "      <td>1.130000</td>\n",
       "      <td>2.825500</td>\n",
       "      <td>1.488000</td>\n",
       "      <td>0.760000</td>\n",
       "      <td>1.005000</td>\n",
       "      <td>29.000000</td>\n",
       "    </tr>\n",
       "  </tbody>\n",
       "</table>\n",
       "</div>"
      ],
      "text/plain": [
       "            Length     Diameter       Height  Whole weight  Shucked weight  \\\n",
       "count  4177.000000  4078.000000  4177.000000   4078.000000     4177.000000   \n",
       "mean      0.523992     0.407840     0.139516      0.827306        0.359367   \n",
       "std       0.120093     0.099286     0.041827      0.490348        0.221963   \n",
       "min       0.075000     0.055000     0.000000      0.002000        0.001000   \n",
       "25%       0.450000     0.350000     0.115000      0.440500        0.186000   \n",
       "50%       0.545000     0.425000     0.140000      0.798500        0.336000   \n",
       "75%       0.615000     0.480000     0.165000      1.150875        0.502000   \n",
       "max       0.815000     0.650000     1.130000      2.825500        1.488000   \n",
       "\n",
       "       Viscera weight  Shell weight        Rings  \n",
       "count     4177.000000   4127.000000  4177.000000  \n",
       "mean         0.180594      0.239072     9.933684  \n",
       "std          0.109614      0.138942     3.224169  \n",
       "min          0.000500      0.001500     1.000000  \n",
       "25%          0.093500      0.130000     8.000000  \n",
       "50%          0.171000      0.235000     9.000000  \n",
       "75%          0.253000      0.328250    11.000000  \n",
       "max          0.760000      1.005000    29.000000  "
      ]
     },
     "execution_count": 11,
     "metadata": {},
     "output_type": "execute_result"
    }
   ],
   "source": [
    "df.describe()"
   ]
  },
  {
   "cell_type": "code",
   "execution_count": 14,
   "id": "49c95385",
   "metadata": {
    "scrolled": false
   },
   "outputs": [
    {
     "data": {
      "text/plain": [
       "array([[<AxesSubplot:title={'center':'Length'}>,\n",
       "        <AxesSubplot:title={'center':'Diameter'}>,\n",
       "        <AxesSubplot:title={'center':'Height'}>],\n",
       "       [<AxesSubplot:title={'center':'Whole weight'}>,\n",
       "        <AxesSubplot:title={'center':'Shucked weight'}>,\n",
       "        <AxesSubplot:title={'center':'Viscera weight'}>],\n",
       "       [<AxesSubplot:title={'center':'Shell weight'}>,\n",
       "        <AxesSubplot:title={'center':'Rings'}>, <AxesSubplot:>]],\n",
       "      dtype=object)"
      ]
     },
     "execution_count": 14,
     "metadata": {},
     "output_type": "execute_result"
    },
    {
     "data": {
      "image/png": "[encoded data removed]",
      "text/plain": [
       "<Figure size 576x576 with 9 Axes>"
      ]
     },
     "metadata": {
      "needs_background": "light"
     },
     "output_type": "display_data"
    }
   ],
   "source": [
    "df.hist(bins=100, figsize=(8,8))"
   ]
  },
  {
   "cell_type": "code",
   "execution_count": 15,
   "id": "16ac496f",
   "metadata": {},
   "outputs": [
    {
     "data": {
      "text/plain": [
       "0.425"
      ]
     },
     "execution_count": 15,
     "metadata": {},
     "output_type": "execute_result"
    }
   ],
   "source": [
    "df['Diameter'].median()"
   ]
  },
  {
   "cell_type": "code",
   "execution_count": 16,
   "id": "1b814ef5",
   "metadata": {},
   "outputs": [],
   "source": [
    "df['Diameter'].fillna(df['Diameter'].median(), inplace=True)\n",
    "df['Whole weight'].fillna(df['Whole weight'].median(), inplace=True)\n",
    "df['Shell weight'].fillna(df['Shell weight'].median(), inplace=True)"
   ]
  },
  {
   "cell_type": "code",
   "execution_count": 17,
   "id": "b902a04d",
   "metadata": {},
   "outputs": [
    {
     "name": "stdout",
     "output_type": "stream",
     "text": [
      "<class 'pandas.core.frame.DataFrame'>\n",
      "RangeIndex: 4177 entries, 0 to 4176\n",
      "Data columns (total 9 columns):\n",
      " #   Column          Non-Null Count  Dtype  \n",
      "---  ------          --------------  -----  \n",
      " 0   Sex             4177 non-null   object \n",
      " 1   Length          4177 non-null   float64\n",
      " 2   Diameter        4177 non-null   float64\n",
      " 3   Height          4177 non-null   float64\n",
      " 4   Whole weight    4177 non-null   float64\n",
      " 5   Shucked weight  4177 non-null   float64\n",
      " 6   Viscera weight  4177 non-null   float64\n",
      " 7   Shell weight    4177 non-null   float64\n",
      " 8   Rings           4177 non-null   int64  \n",
      "dtypes: float64(7), int64(1), object(1)\n",
      "memory usage: 293.8+ KB\n"
     ]
    }
   ],
   "source": [
    "df.info()"
   ]
  },
  {
   "cell_type": "code",
   "execution_count": 21,
   "id": "ff899e80",
   "metadata": {},
   "outputs": [
    {
     "data": {
      "text/html": [
       "<style type=\"text/css\">\n",
       "#T_99078_row0_col0, #T_99078_row1_col1, #T_99078_row2_col2, #T_99078_row3_col3, #T_99078_row4_col4, #T_99078_row5_col5, #T_99078_row6_col6, #T_99078_row7_col7 {\n",
       "  background-color: #006837;\n",
       "  color: #f1f1f1;\n",
       "}\n",
       "#T_99078_row0_col1, #T_99078_row1_col0 {\n",
       "  background-color: #0e8245;\n",
       "  color: #f1f1f1;\n",
       "}\n",
       "#T_99078_row0_col2, #T_99078_row2_col0, #T_99078_row2_col4 {\n",
       "  background-color: #d3ec87;\n",
       "  color: #000000;\n",
       "}\n",
       "#T_99078_row0_col3 {\n",
       "  background-color: #57b65f;\n",
       "  color: #f1f1f1;\n",
       "}\n",
       "#T_99078_row0_col4 {\n",
       "  background-color: #54b45f;\n",
       "  color: #f1f1f1;\n",
       "}\n",
       "#T_99078_row0_col5 {\n",
       "  background-color: #63bc62;\n",
       "  color: #f1f1f1;\n",
       "}\n",
       "#T_99078_row0_col6 {\n",
       "  background-color: #a0d669;\n",
       "  color: #000000;\n",
       "}\n",
       "#T_99078_row0_col7, #T_99078_row2_col7 {\n",
       "  background-color: #f7844e;\n",
       "  color: #f1f1f1;\n",
       "}\n",
       "#T_99078_row1_col2 {\n",
       "  background-color: #d9ef8b;\n",
       "  color: #000000;\n",
       "}\n",
       "#T_99078_row1_col3, #T_99078_row1_col4 {\n",
       "  background-color: #66bd63;\n",
       "  color: #f1f1f1;\n",
       "}\n",
       "#T_99078_row1_col5 {\n",
       "  background-color: #75c465;\n",
       "  color: #000000;\n",
       "}\n",
       "#T_99078_row1_col6 {\n",
       "  background-color: #a7d96b;\n",
       "  color: #000000;\n",
       "}\n",
       "#T_99078_row1_col7 {\n",
       "  background-color: #f88c51;\n",
       "  color: #f1f1f1;\n",
       "}\n",
       "#T_99078_row2_col1, #T_99078_row2_col3 {\n",
       "  background-color: #daf08d;\n",
       "  color: #000000;\n",
       "}\n",
       "#T_99078_row2_col5 {\n",
       "  background-color: #dcf08f;\n",
       "  color: #000000;\n",
       "}\n",
       "#T_99078_row2_col6 {\n",
       "  background-color: #fffebe;\n",
       "  color: #000000;\n",
       "}\n",
       "#T_99078_row3_col0 {\n",
       "  background-color: #5db961;\n",
       "  color: #f1f1f1;\n",
       "}\n",
       "#T_99078_row3_col1 {\n",
       "  background-color: #6ec064;\n",
       "  color: #000000;\n",
       "}\n",
       "#T_99078_row3_col2 {\n",
       "  background-color: #e3f399;\n",
       "  color: #000000;\n",
       "}\n",
       "#T_99078_row3_col4 {\n",
       "  background-color: #128a49;\n",
       "  color: #f1f1f1;\n",
       "}\n",
       "#T_99078_row3_col5, #T_99078_row4_col3 {\n",
       "  background-color: #17934e;\n",
       "  color: #f1f1f1;\n",
       "}\n",
       "#T_99078_row3_col6 {\n",
       "  background-color: #51b35e;\n",
       "  color: #f1f1f1;\n",
       "}\n",
       "#T_99078_row3_col7 {\n",
       "  background-color: #f26841;\n",
       "  color: #f1f1f1;\n",
       "}\n",
       "#T_99078_row4_col0 {\n",
       "  background-color: #78c565;\n",
       "  color: #000000;\n",
       "}\n",
       "#T_99078_row4_col1, #T_99078_row5_col6 {\n",
       "  background-color: #91d068;\n",
       "  color: #000000;\n",
       "}\n",
       "#T_99078_row4_col2 {\n",
       "  background-color: #fffcba;\n",
       "  color: #000000;\n",
       "}\n",
       "#T_99078_row4_col5 {\n",
       "  background-color: #36a657;\n",
       "  color: #f1f1f1;\n",
       "}\n",
       "#T_99078_row4_col6 {\n",
       "  background-color: #b7e075;\n",
       "  color: #000000;\n",
       "}\n",
       "#T_99078_row4_col7, #T_99078_row7_col0, #T_99078_row7_col1, #T_99078_row7_col2, #T_99078_row7_col3, #T_99078_row7_col4, #T_99078_row7_col5, #T_99078_row7_col6 {\n",
       "  background-color: #a50026;\n",
       "  color: #f1f1f1;\n",
       "}\n",
       "#T_99078_row5_col0 {\n",
       "  background-color: #73c264;\n",
       "  color: #000000;\n",
       "}\n",
       "#T_99078_row5_col1 {\n",
       "  background-color: #89cc67;\n",
       "  color: #000000;\n",
       "}\n",
       "#T_99078_row5_col2 {\n",
       "  background-color: #eef8a8;\n",
       "  color: #000000;\n",
       "}\n",
       "#T_99078_row5_col3 {\n",
       "  background-color: #199750;\n",
       "  color: #f1f1f1;\n",
       "}\n",
       "#T_99078_row5_col4 {\n",
       "  background-color: #279f53;\n",
       "  color: #f1f1f1;\n",
       "}\n",
       "#T_99078_row5_col7 {\n",
       "  background-color: #e34933;\n",
       "  color: #f1f1f1;\n",
       "}\n",
       "#T_99078_row6_col0 {\n",
       "  background-color: #84ca66;\n",
       "  color: #000000;\n",
       "}\n",
       "#T_99078_row6_col1 {\n",
       "  background-color: #8ecf67;\n",
       "  color: #000000;\n",
       "}\n",
       "#T_99078_row6_col2 {\n",
       "  background-color: #e5f49b;\n",
       "  color: #000000;\n",
       "}\n",
       "#T_99078_row6_col3 {\n",
       "  background-color: #39a758;\n",
       "  color: #f1f1f1;\n",
       "}\n",
       "#T_99078_row6_col4 {\n",
       "  background-color: #70c164;\n",
       "  color: #000000;\n",
       "}\n",
       "#T_99078_row6_col5 {\n",
       "  background-color: #69be63;\n",
       "  color: #f1f1f1;\n",
       "}\n",
       "#T_99078_row6_col7 {\n",
       "  background-color: #fdc574;\n",
       "  color: #000000;\n",
       "}\n",
       "</style>\n",
       "<table id=\"T_99078\">\n",
       "  <thead>\n",
       "    <tr>\n",
       "      <th class=\"blank level0\" >&nbsp;</th>\n",
       "      <th id=\"T_99078_level0_col0\" class=\"col_heading level0 col0\" >Length</th>\n",
       "      <th id=\"T_99078_level0_col1\" class=\"col_heading level0 col1\" >Diameter</th>\n",
       "      <th id=\"T_99078_level0_col2\" class=\"col_heading level0 col2\" >Height</th>\n",
       "      <th id=\"T_99078_level0_col3\" class=\"col_heading level0 col3\" >Whole weight</th>\n",
       "      <th id=\"T_99078_level0_col4\" class=\"col_heading level0 col4\" >Shucked weight</th>\n",
       "      <th id=\"T_99078_level0_col5\" class=\"col_heading level0 col5\" >Viscera weight</th>\n",
       "      <th id=\"T_99078_level0_col6\" class=\"col_heading level0 col6\" >Shell weight</th>\n",
       "      <th id=\"T_99078_level0_col7\" class=\"col_heading level0 col7\" >Rings</th>\n",
       "    </tr>\n",
       "  </thead>\n",
       "  <tbody>\n",
       "    <tr>\n",
       "      <th id=\"T_99078_level0_row0\" class=\"row_heading level0 row0\" >Length</th>\n",
       "      <td id=\"T_99078_row0_col0\" class=\"data row0 col0\" >1.000000</td>\n",
       "      <td id=\"T_99078_row0_col1\" class=\"data row0 col1\" >0.974693</td>\n",
       "      <td id=\"T_99078_row0_col2\" class=\"data row0 col2\" >0.827554</td>\n",
       "      <td id=\"T_99078_row0_col3\" class=\"data row0 col3\" >0.915426</td>\n",
       "      <td id=\"T_99078_row0_col4\" class=\"data row0 col4\" >0.897914</td>\n",
       "      <td id=\"T_99078_row0_col5\" class=\"data row0 col5\" >0.903018</td>\n",
       "      <td id=\"T_99078_row0_col6\" class=\"data row0 col6\" >0.889517</td>\n",
       "      <td id=\"T_99078_row0_col7\" class=\"data row0 col7\" >0.556720</td>\n",
       "    </tr>\n",
       "    <tr>\n",
       "      <th id=\"T_99078_level0_row1\" class=\"row_heading level0 row1\" >Diameter</th>\n",
       "      <td id=\"T_99078_row1_col0\" class=\"data row1 col0\" >0.974693</td>\n",
       "      <td id=\"T_99078_row1_col1\" class=\"data row1 col1\" >1.000000</td>\n",
       "      <td id=\"T_99078_row1_col2\" class=\"data row1 col2\" >0.823014</td>\n",
       "      <td id=\"T_99078_row1_col3\" class=\"data row1 col3\" >0.906350</td>\n",
       "      <td id=\"T_99078_row1_col4\" class=\"data row1 col4\" >0.882375</td>\n",
       "      <td id=\"T_99078_row1_col5\" class=\"data row1 col5\" >0.888190</td>\n",
       "      <td id=\"T_99078_row1_col6\" class=\"data row1 col6\" >0.885752</td>\n",
       "      <td id=\"T_99078_row1_col7\" class=\"data row1 col7\" >0.563512</td>\n",
       "    </tr>\n",
       "    <tr>\n",
       "      <th id=\"T_99078_level0_row2\" class=\"row_heading level0 row2\" >Height</th>\n",
       "      <td id=\"T_99078_row2_col0\" class=\"data row2 col0\" >0.827554</td>\n",
       "      <td id=\"T_99078_row2_col1\" class=\"data row2 col1\" >0.823014</td>\n",
       "      <td id=\"T_99078_row2_col2\" class=\"data row2 col2\" >1.000000</td>\n",
       "      <td id=\"T_99078_row2_col3\" class=\"data row2 col3\" >0.811451</td>\n",
       "      <td id=\"T_99078_row2_col4\" class=\"data row2 col4\" >0.774972</td>\n",
       "      <td id=\"T_99078_row2_col5\" class=\"data row2 col5\" >0.798319</td>\n",
       "      <td id=\"T_99078_row2_col6\" class=\"data row2 col6\" >0.809684</td>\n",
       "      <td id=\"T_99078_row2_col7\" class=\"data row2 col7\" >0.557467</td>\n",
       "    </tr>\n",
       "    <tr>\n",
       "      <th id=\"T_99078_level0_row3\" class=\"row_heading level0 row3\" >Whole weight</th>\n",
       "      <td id=\"T_99078_row3_col0\" class=\"data row3 col0\" >0.915426</td>\n",
       "      <td id=\"T_99078_row3_col1\" class=\"data row3 col1\" >0.906350</td>\n",
       "      <td id=\"T_99078_row3_col2\" class=\"data row3 col2\" >0.811451</td>\n",
       "      <td id=\"T_99078_row3_col3\" class=\"data row3 col3\" >1.000000</td>\n",
       "      <td id=\"T_99078_row3_col4\" class=\"data row3 col4\" >0.957427</td>\n",
       "      <td id=\"T_99078_row3_col5\" class=\"data row3 col5\" >0.954036</td>\n",
       "      <td id=\"T_99078_row3_col6\" class=\"data row3 col6\" >0.934197</td>\n",
       "      <td id=\"T_99078_row3_col7\" class=\"data row3 col7\" >0.532149</td>\n",
       "    </tr>\n",
       "    <tr>\n",
       "      <th id=\"T_99078_level0_row4\" class=\"row_heading level0 row4\" >Shucked weight</th>\n",
       "      <td id=\"T_99078_row4_col0\" class=\"data row4 col0\" >0.897914</td>\n",
       "      <td id=\"T_99078_row4_col1\" class=\"data row4 col1\" >0.882375</td>\n",
       "      <td id=\"T_99078_row4_col2\" class=\"data row4 col2\" >0.774972</td>\n",
       "      <td id=\"T_99078_row4_col3\" class=\"data row4 col3\" >0.957427</td>\n",
       "      <td id=\"T_99078_row4_col4\" class=\"data row4 col4\" >1.000000</td>\n",
       "      <td id=\"T_99078_row4_col5\" class=\"data row4 col5\" >0.931961</td>\n",
       "      <td id=\"T_99078_row4_col6\" class=\"data row4 col6\" >0.874333</td>\n",
       "      <td id=\"T_99078_row4_col7\" class=\"data row4 col7\" >0.420884</td>\n",
       "    </tr>\n",
       "    <tr>\n",
       "      <th id=\"T_99078_level0_row5\" class=\"row_heading level0 row5\" >Viscera weight</th>\n",
       "      <td id=\"T_99078_row5_col0\" class=\"data row5 col0\" >0.903018</td>\n",
       "      <td id=\"T_99078_row5_col1\" class=\"data row5 col1\" >0.888190</td>\n",
       "      <td id=\"T_99078_row5_col2\" class=\"data row5 col2\" >0.798319</td>\n",
       "      <td id=\"T_99078_row5_col3\" class=\"data row5 col3\" >0.954036</td>\n",
       "      <td id=\"T_99078_row5_col4\" class=\"data row5 col4\" >0.931961</td>\n",
       "      <td id=\"T_99078_row5_col5\" class=\"data row5 col5\" >1.000000</td>\n",
       "      <td id=\"T_99078_row5_col6\" class=\"data row5 col6\" >0.899098</td>\n",
       "      <td id=\"T_99078_row5_col7\" class=\"data row5 col7\" >0.503819</td>\n",
       "    </tr>\n",
       "    <tr>\n",
       "      <th id=\"T_99078_level0_row6\" class=\"row_heading level0 row6\" >Shell weight</th>\n",
       "      <td id=\"T_99078_row6_col0\" class=\"data row6 col0\" >0.889517</td>\n",
       "      <td id=\"T_99078_row6_col1\" class=\"data row6 col1\" >0.885752</td>\n",
       "      <td id=\"T_99078_row6_col2\" class=\"data row6 col2\" >0.809684</td>\n",
       "      <td id=\"T_99078_row6_col3\" class=\"data row6 col3\" >0.934197</td>\n",
       "      <td id=\"T_99078_row6_col4\" class=\"data row6 col4\" >0.874333</td>\n",
       "      <td id=\"T_99078_row6_col5\" class=\"data row6 col5\" >0.899098</td>\n",
       "      <td id=\"T_99078_row6_col6\" class=\"data row6 col6\" >1.000000</td>\n",
       "      <td id=\"T_99078_row6_col7\" class=\"data row6 col7\" >0.622194</td>\n",
       "    </tr>\n",
       "    <tr>\n",
       "      <th id=\"T_99078_level0_row7\" class=\"row_heading level0 row7\" >Rings</th>\n",
       "      <td id=\"T_99078_row7_col0\" class=\"data row7 col0\" >0.556720</td>\n",
       "      <td id=\"T_99078_row7_col1\" class=\"data row7 col1\" >0.563512</td>\n",
       "      <td id=\"T_99078_row7_col2\" class=\"data row7 col2\" >0.557467</td>\n",
       "      <td id=\"T_99078_row7_col3\" class=\"data row7 col3\" >0.532149</td>\n",
       "      <td id=\"T_99078_row7_col4\" class=\"data row7 col4\" >0.420884</td>\n",
       "      <td id=\"T_99078_row7_col5\" class=\"data row7 col5\" >0.503819</td>\n",
       "      <td id=\"T_99078_row7_col6\" class=\"data row7 col6\" >0.622194</td>\n",
       "      <td id=\"T_99078_row7_col7\" class=\"data row7 col7\" >1.000000</td>\n",
       "    </tr>\n",
       "  </tbody>\n",
       "</table>\n"
      ],
      "text/plain": [
       "<pandas.io.formats.style.Styler at 0x2228ef45d00>"
      ]
     },
     "execution_count": 21,
     "metadata": {},
     "output_type": "execute_result"
    }
   ],
   "source": [
    "corr = df.corr()\n",
    "corr.style.background_gradient(cmap='RdYlGn')"
   ]
  },
  {
   "cell_type": "code",
   "execution_count": 26,
   "id": "e143e000",
   "metadata": {},
   "outputs": [
    {
     "data": {
      "text/plain": [
       "<bound method IndexOpsMixin.value_counts of 0       15\n",
       "1        7\n",
       "2        9\n",
       "3       10\n",
       "4        7\n",
       "        ..\n",
       "4172    11\n",
       "4173    10\n",
       "4174     9\n",
       "4175    10\n",
       "4176    12\n",
       "Name: Rings, Length: 4177, dtype: int64>"
      ]
     },
     "execution_count": 26,
     "metadata": {},
     "output_type": "execute_result"
    }
   ],
   "source": [
    "df['Rings'].value_counts"
   ]
  },
  {
   "cell_type": "code",
   "execution_count": 27,
   "id": "d3e429bb",
   "metadata": {},
   "outputs": [
    {
     "data": {
      "image/png": "[encoded data removed]",
      "text/plain": [
       "<Figure size 288x216 with 1 Axes>"
      ]
     },
     "metadata": {
      "needs_background": "light"
     },
     "output_type": "display_data"
    }
   ],
   "source": [
    "plt.figure(figsize=(4,3))\n",
    "\n",
    "plt.hist(df.Rings);"
   ]
  },
  {
   "cell_type": "markdown",
   "id": "efcb0e2b",
   "metadata": {},
   "source": [
    "Распределение целевой переменной напоминает нормальное распределение, что может быть преимуществом при создании модели машинного обучения"
   ]
  },
  {
   "cell_type": "code",
   "execution_count": 29,
   "id": "a7ae2247",
   "metadata": {},
   "outputs": [
    {
     "data": {
      "text/plain": [
       "Sex               0\n",
       "Length            0\n",
       "Diameter          0\n",
       "Height            0\n",
       "Whole weight      0\n",
       "Shucked weight    0\n",
       "Viscera weight    0\n",
       "Shell weight      0\n",
       "Rings             0\n",
       "dtype: int64"
      ]
     },
     "execution_count": 29,
     "metadata": {},
     "output_type": "execute_result"
    }
   ],
   "source": [
    "df.isnull().sum()"
   ]
  },
  {
   "cell_type": "code",
   "execution_count": 32,
   "id": "02a71e1e",
   "metadata": {},
   "outputs": [
    {
     "data": {
      "image/png": "[encoded data removed]",
      "text/plain": [
       "<Figure size 432x288 with 1 Axes>"
      ]
     },
     "metadata": {
      "needs_background": "light"
     },
     "output_type": "display_data"
    }
   ],
   "source": [
    "plt.figure(figsize=(6,4))\n",
    "\n",
    "sns.scatterplot(x='Rings', y='Shell weight', data = df, palette='summer')\n",
    "plt.title('Rings - Shell weight')\n",
    "plt.show();"
   ]
  },
  {
   "cell_type": "code",
   "execution_count": null,
   "id": "b95b39f3",
   "metadata": {},
   "outputs": [],
   "source": []
  }
 ],
 "metadata": {
  "kernelspec": {
   "display_name": "Python 3 (ipykernel)",
   "language": "python",
   "name": "python3"
  },
  "language_info": {
   "codemirror_mode": {
    "name": "ipython",
    "version": 3
   },
   "file_extension": ".py",
   "mimetype": "text/x-python",
   "name": "python",
   "nbconvert_exporter": "python",
   "pygments_lexer": "ipython3",
   "version": "3.9.12"
  }
 },
 "nbformat": 4,
 "nbformat_minor": 5
}
